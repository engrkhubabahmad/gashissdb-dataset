{
  "nbformat": 4,
  "nbformat_minor": 0,
  "metadata": {
    "colab": {
      "provenance": []
    },
    "kernelspec": {
      "name": "python3",
      "display_name": "Python 3"
    },
    "language_info": {
      "name": "python"
    }
  },
  "cells": [
    {
      "cell_type": "code",
      "execution_count": null,
      "metadata": {
        "colab": {
          "base_uri": "https://localhost:8080/"
        },
        "id": "LuOyVQapgMzh",
        "outputId": "b406b7de-940e-4a27-8c9e-08381de19fcd"
      },
      "outputs": [
        {
          "output_type": "stream",
          "name": "stdout",
          "text": [
            "Files in article: ['GasHisSDB.rar']\n",
            "Downloading GasHisSDB.rar...\n",
            "✅ Saved to GasHisSDB.rar\n"
          ]
        }
      ],
      "source": [
        "import requests\n",
        "from pathlib import Path\n",
        "\n",
        "# Correct ARTICLE_ID from the URL\n",
        "ARTICLE_ID = 15066147\n",
        "BASE_URL = \"https://api.figshare.com/v2\"\n",
        "\n",
        "# Step 1: Get metadata including file list\n",
        "metadata = requests.get(f\"{BASE_URL}/articles/{ARTICLE_ID}/files\").json()\n",
        "print(\"Files in article:\", [f['name'] for f in metadata])\n",
        "\n",
        "# Step 2: Download each file\n",
        "for f in metadata:\n",
        "    download_url = f.get(\"download_url\")\n",
        "    if not download_url:\n",
        "        print(f\"Skipping {f['name']} (no direct URL)\")\n",
        "        continue\n",
        "\n",
        "    print(f\"Downloading {f['name']}...\")\n",
        "    resp = requests.get(download_url, stream=True)\n",
        "    resp.raise_for_status()\n",
        "\n",
        "    out_path = Path(f['name'])\n",
        "    with open(out_path, \"wb\") as out:\n",
        "        for chunk in resp.iter_content(chunk_size=8192):\n",
        "            out.write(chunk)\n",
        "\n",
        "    print(f\"✅ Saved to {out_path}\")\n"
      ]
    },
    {
      "cell_type": "code",
      "execution_count": null,
      "metadata": {
        "id": "errBEoK6Ktrg"
      },
      "outputs": [],
      "source": [
        "# Takes arround less than 2 minutes\n",
        "!unrar x /content/GasHisSDB.rar\n",
        "from IPython.display import clear_output\n",
        "clear_output()"
      ]
    },
    {
      "cell_type": "code",
      "execution_count": null,
      "metadata": {
        "id": "6TDoO_HKOm7m",
        "colab": {
          "base_uri": "https://localhost:8080/"
        },
        "outputId": "55ed40eb-0a99-42ae-eed1-fb6b18f87726"
      },
      "outputs": [
        {
          "output_type": "stream",
          "name": "stdout",
          "text": [
            "Directory: ./GasHisSDB, Number of files: 1\n",
            "Directory: ./GasHisSDB/80, Number of files: 0\n",
            "Directory: ./GasHisSDB/80/Abnormal, Number of files: 59151\n",
            "Directory: ./GasHisSDB/80/Normal, Number of files: 87500\n",
            "Directory: ./GasHisSDB/160, Number of files: 0\n",
            "Directory: ./GasHisSDB/160/Abnormal, Number of files: 13124\n",
            "Directory: ./GasHisSDB/160/Normal, Number of files: 20160\n",
            "Directory: ./GasHisSDB/120, Number of files: 0\n",
            "Directory: ./GasHisSDB/120/Abnormal, Number of files: 24801\n",
            "Directory: ./GasHisSDB/120/Normal, Number of files: 40460\n"
          ]
        }
      ],
      "source": [
        "import os\n",
        "base_dir = \"./GasHisSDB\"\n",
        "\n",
        "for subdir, dirs, files in os.walk(base_dir):\n",
        "    print(f\"Directory: {subdir}, Number of files: {len(files)}\")"
      ]
    }
  ]
}